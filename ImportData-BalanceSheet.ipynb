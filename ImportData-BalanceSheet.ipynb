{
 "cells": [
  {
   "cell_type": "code",
   "execution_count": 1,
   "id": "3d7390e9",
   "metadata": {},
   "outputs": [],
   "source": [
    "# import python libraries\n",
    "\n",
    "import requests\n",
    "import json\n",
    "import csv\n",
    "import pandas as pd\n",
    "from pandas import json_normalize\n"
   ]
  },
  {
   "cell_type": "code",
   "execution_count": 2,
   "id": "cd74e961",
   "metadata": {},
   "outputs": [],
   "source": [
    "# set parameters\n",
    "\n",
    "APIKEY = \"J3DS2SR4G6B98TX3\"\n",
    "FUNCTION = \"BALANCE_SHEET\"\n",
    "TABLE = \"annualReports\"\n",
    "FILE = \"BenchmarkingCompanyList.csv\""
   ]
  },
  {
   "cell_type": "code",
   "execution_count": 3,
   "id": "449cbe3a",
   "metadata": {},
   "outputs": [
    {
     "name": "stdout",
     "output_type": "stream",
     "text": [
      "Company         Air Canada\n",
      "Public               OTCMK\n",
      "TickerSymbol         ACDVF\n",
      "Name: 1, dtype: object\n",
      "Company         Dundee Precious Metals\n",
      "Public                           OTCMK\n",
      "TickerSymbol                     DPMLF\n",
      "Name: 14, dtype: object\n",
      "Company         Hammond Power\n",
      "Public                 OTCMKT\n",
      "TickerSymbol            HMDPF\n",
      "Name: 22, dtype: object\n",
      "Company         Dyno Nobel\n",
      "Public               OTCMK\n",
      "TickerSymbol         ICPVF\n",
      "Name: 25, dtype: object\n",
      "Company         North American Palladium\n",
      "Public                              MERG\n",
      "TickerSymbol                       IMPUY\n",
      "Name: 27, dtype: object\n",
      "Company         Li-Metal\n",
      "Public            OTCMKT\n",
      "TickerSymbol       LIMFF\n",
      "Name: 32, dtype: object\n",
      "Company         Luminex\n",
      "Public                Y\n",
      "TickerSymbol       LMNX\n",
      "Name: 33, dtype: object\n",
      "Company         Orvana Gold\n",
      "Public               OTCMKT\n",
      "TickerSymbol          ORVMF\n",
      "Name: 48, dtype: object\n",
      "Company         Russell Metals\n",
      "Public                  OTCMKT\n",
      "TickerSymbol              RSMF\n",
      "Name: 53, dtype: object\n",
      "Company         Tate & Lyle\n",
      "Public               OTCMKT\n",
      "TickerSymbol          TATYF\n",
      "Name: 62, dtype: object\n",
      "Company         Christie Digital\n",
      "Public                      MERG\n",
      "TickerSymbol               UHOIF\n",
      "Name: 67, dtype: object\n"
     ]
    }
   ],
   "source": [
    "# This is the main block and the only block needed to pull data with API calls and write into a CSV file\n",
    "\n",
    "# loop and read the Ticker Symbols\n",
    "# output data into a csv file\n",
    "# print the rows for which data doesn't exist\n",
    "\n",
    "df1 = pd.read_csv(FILE)\n",
    "FirstLine = True         \n",
    "\n",
    "for index, row in df1.iterrows():\n",
    "    if FirstLine == True : \n",
    "        url = 'https://www.alphavantage.co/query?function='+FUNCTION+'&symbol='+row['TickerSymbol']+'&apikey='+APIKEY\n",
    "        r = requests.get(url)\n",
    "        data = r.json()\n",
    "        if not data :\n",
    "            print(row)\n",
    "            next(df1.iterrows())\n",
    "        else:\n",
    "            jString = json.dumps(data).replace(\"None\", '0')\n",
    "            dict = json.loads(jString)\n",
    "            df2 = json_normalize(dict[TABLE])\n",
    "            df2.insert(0, \"TickerSymbol\", row['TickerSymbol'])\n",
    "            df2.to_csv(FUNCTION+\".csv\", mode='a', index=False, header=True)\n",
    "            FirstLine = False\n",
    "    else :\n",
    "        url = 'https://www.alphavantage.co/query?function='+FUNCTION+'&symbol='+row['TickerSymbol']+'&apikey='+APIKEY\n",
    "        r = requests.get(url)\n",
    "        data = r.json()\n",
    "        if not data :\n",
    "            print(row)\n",
    "            next(df1.iterrows())\n",
    "        else:\n",
    "            jString = json.dumps(data).replace(\"None\", '0')\n",
    "            dict = json.loads(jString)\n",
    "            df2 = json_normalize(dict[TABLE])\n",
    "            df2.insert(0, \"TickerSymbol\", row['TickerSymbol'])\n",
    "            df2.to_csv(FUNCTION+\".csv\", mode='a', index=False, header=False)"
   ]
  },
  {
   "cell_type": "code",
   "execution_count": null,
   "id": "64a4c650",
   "metadata": {},
   "outputs": [],
   "source": []
  }
 ],
 "metadata": {
  "kernelspec": {
   "display_name": "Python 3 (ipykernel)",
   "language": "python",
   "name": "python3"
  },
  "language_info": {
   "codemirror_mode": {
    "name": "ipython",
    "version": 3
   },
   "file_extension": ".py",
   "mimetype": "text/x-python",
   "name": "python",
   "nbconvert_exporter": "python",
   "pygments_lexer": "ipython3",
   "version": "3.9.7"
  }
 },
 "nbformat": 4,
 "nbformat_minor": 5
}
